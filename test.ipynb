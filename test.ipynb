{
 "cells": [
  {
   "cell_type": "code",
   "execution_count": null,
   "outputs": [],
   "source": [
    "import torch\n",
    "import numpy as np\n",
    "import os\n",
    "from pathlib import Path\n",
    "\n",
    "desktop_dir = Path(os.environ['USERPROFILE']) / 'Desktop'\n",
    "data_path = desktop_dir / 'data.bin'\n",
    "\n",
    "data_read = np.fromfile(data_path, 'uint8')\n",
    "tensor_data = torch.from_numpy(data_read)\n",
    "tensor_data[0]"
   ],
   "metadata": {
    "collapsed": false,
    "pycharm": {
     "name": "#%%\n"
    }
   }
  },
  {
   "cell_type": "code",
   "execution_count": null,
   "outputs": [],
   "source": [
    "import os.path\n",
    "os.getcwd()"
   ],
   "metadata": {
    "collapsed": false,
    "pycharm": {
     "name": "#%%\n"
    }
   }
  },
  {
   "cell_type": "code",
   "execution_count": 3,
   "outputs": [],
   "source": [
    "import torch\n",
    "import numpy as np\n",
    "from pathlib import Path\n",
    "import os\n",
    "\n",
    "    # Define data directory\n",
    "data_dir = Path(os.getcwd()) / 'my_data'\n",
    "training_dir = data_dir / 'training'\n",
    "x_dir = training_dir / 'x'\n",
    "y_dir = training_dir / 'y'\n",
    "\n",
    "    # Read data\n",
    "indexes = range(0,6999)\n",
    "indexes_leading_zero = [str(index).zfill(5) for index in indexes]\n",
    "files_names = [index + '.bin' for index in indexes_leading_zero]\n",
    "x = np.array([np.fromfile(x_dir / file, 'uint8') for file in files_names])\n",
    "y = np.array([np.fromfile(y_dir / file, 'uint8') for file in files_names])\n",
    "\n",
    "train_data = torch.from_numpy(x)\n",
    "train_loader = torch.utils.data.DataLoader(train_data, batch_size=1, num_workers=0)\n",
    "\n",
    "test_data = torch.from_numpy(y)\n",
    "test_loader = torch.utils.data.DataLoader(test_data, batch_size=1, num_workers=0)"
   ],
   "metadata": {
    "collapsed": false,
    "pycharm": {
     "name": "#%%\n"
    }
   }
  },
  {
   "cell_type": "code",
   "execution_count": 9,
   "outputs": [
    {
     "data": {
      "text/plain": "<torch.utils.data.dataloader.DataLoader at 0x1b1bd8c4970>"
     },
     "execution_count": 9,
     "metadata": {},
     "output_type": "execute_result"
    }
   ],
   "source": [
    "\n",
    "\n",
    "\n",
    "\n",
    "\n",
    "\n",
    "\n",
    "\n"
   ],
   "metadata": {
    "collapsed": false,
    "pycharm": {
     "name": "#%%\n"
    }
   }
  }
 ],
 "metadata": {
  "kernelspec": {
   "display_name": "Python 3",
   "language": "python",
   "name": "python3"
  },
  "language_info": {
   "codemirror_mode": {
    "name": "ipython",
    "version": 2
   },
   "file_extension": ".py",
   "mimetype": "text/x-python",
   "name": "python",
   "nbconvert_exporter": "python",
   "pygments_lexer": "ipython2",
   "version": "2.7.6"
  }
 },
 "nbformat": 4,
 "nbformat_minor": 0
}