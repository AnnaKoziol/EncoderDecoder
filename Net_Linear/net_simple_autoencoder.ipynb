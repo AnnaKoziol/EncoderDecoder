{
 "cells": [
  {
   "cell_type": "code",
   "execution_count": 6,
   "metadata": {
    "collapsed": true,
    "pycharm": {
     "name": "#%%\n"
    }
   },
   "outputs": [
    {
     "name": "stdout",
     "output_type": "stream",
     "text": [
      "epoch [1/100], loss:0.2008\n",
      "epoch [2/100], loss:0.1894\n",
      "epoch [3/100], loss:0.1690\n",
      "epoch [4/100], loss:0.1603\n",
      "epoch [5/100], loss:0.1509\n",
      "epoch [6/100], loss:0.1636\n",
      "epoch [7/100], loss:0.1593\n",
      "epoch [8/100], loss:0.1428\n",
      "epoch [9/100], loss:0.1495\n",
      "epoch [10/100], loss:0.1368\n",
      "epoch [11/100], loss:0.1343\n",
      "epoch [12/100], loss:0.1404\n",
      "epoch [13/100], loss:0.1428\n",
      "epoch [14/100], loss:0.1489\n",
      "epoch [15/100], loss:0.1437\n",
      "epoch [16/100], loss:0.1311\n",
      "epoch [17/100], loss:0.1287\n",
      "epoch [18/100], loss:0.1333\n",
      "epoch [19/100], loss:0.1356\n",
      "epoch [20/100], loss:0.1390\n",
      "epoch [21/100], loss:0.1461\n",
      "epoch [22/100], loss:0.1352\n",
      "epoch [23/100], loss:0.1414\n",
      "epoch [24/100], loss:0.1317\n",
      "epoch [25/100], loss:0.1354\n",
      "epoch [26/100], loss:0.1217\n",
      "epoch [27/100], loss:0.1331\n",
      "epoch [28/100], loss:0.1346\n",
      "epoch [29/100], loss:0.1361\n",
      "epoch [30/100], loss:0.1378\n",
      "epoch [31/100], loss:0.1380\n",
      "epoch [32/100], loss:0.1323\n",
      "epoch [33/100], loss:0.1375\n",
      "epoch [34/100], loss:0.1320\n",
      "epoch [35/100], loss:0.1234\n",
      "epoch [36/100], loss:0.1396\n",
      "epoch [37/100], loss:0.1273\n",
      "epoch [38/100], loss:0.1230\n",
      "epoch [39/100], loss:0.1231\n",
      "epoch [40/100], loss:0.1187\n",
      "epoch [41/100], loss:0.1457\n",
      "epoch [42/100], loss:0.1306\n",
      "epoch [43/100], loss:0.1285\n",
      "epoch [44/100], loss:0.1301\n",
      "epoch [45/100], loss:0.1229\n",
      "epoch [46/100], loss:0.1204\n",
      "epoch [47/100], loss:0.1161\n",
      "epoch [48/100], loss:0.1220\n",
      "epoch [49/100], loss:0.1307\n",
      "epoch [50/100], loss:0.1250\n",
      "epoch [51/100], loss:0.1292\n",
      "epoch [52/100], loss:0.1219\n",
      "epoch [53/100], loss:0.1231\n",
      "epoch [54/100], loss:0.1438\n",
      "epoch [55/100], loss:0.1218\n",
      "epoch [56/100], loss:0.1377\n",
      "epoch [57/100], loss:0.1235\n",
      "epoch [58/100], loss:0.1260\n",
      "epoch [59/100], loss:0.1252\n",
      "epoch [60/100], loss:0.1365\n",
      "epoch [61/100], loss:0.1184\n",
      "epoch [62/100], loss:0.1216\n",
      "epoch [63/100], loss:0.1281\n",
      "epoch [64/100], loss:0.1322\n",
      "epoch [65/100], loss:0.1326\n",
      "epoch [66/100], loss:0.1333\n",
      "epoch [67/100], loss:0.1394\n",
      "epoch [68/100], loss:0.1279\n",
      "epoch [69/100], loss:0.1391\n",
      "epoch [70/100], loss:0.1331\n",
      "epoch [71/100], loss:0.1142\n",
      "epoch [72/100], loss:0.1324\n",
      "epoch [73/100], loss:0.1341\n",
      "epoch [74/100], loss:0.1325\n",
      "epoch [75/100], loss:0.1237\n",
      "epoch [76/100], loss:0.1270\n",
      "epoch [77/100], loss:0.1262\n",
      "epoch [78/100], loss:0.1353\n",
      "epoch [79/100], loss:0.1180\n",
      "epoch [80/100], loss:0.1160\n",
      "epoch [81/100], loss:0.1287\n",
      "epoch [82/100], loss:0.1145\n",
      "epoch [83/100], loss:0.1150\n",
      "epoch [84/100], loss:0.1218\n",
      "epoch [85/100], loss:0.1278\n",
      "epoch [86/100], loss:0.1349\n",
      "epoch [87/100], loss:0.1135\n",
      "epoch [88/100], loss:0.1224\n",
      "epoch [89/100], loss:0.1198\n",
      "epoch [90/100], loss:0.1173\n",
      "epoch [91/100], loss:0.1201\n",
      "epoch [92/100], loss:0.1364\n",
      "epoch [93/100], loss:0.1261\n",
      "epoch [94/100], loss:0.1115\n",
      "epoch [95/100], loss:0.1228\n",
      "epoch [96/100], loss:0.1187\n",
      "epoch [97/100], loss:0.1277\n",
      "epoch [98/100], loss:0.1170\n",
      "epoch [99/100], loss:0.1240\n",
      "epoch [100/100], loss:0.1165\n"
     ]
    },
    {
     "data": {
      "text/plain": "<Figure size 432x288 with 1 Axes>",
      "image/png": "[encoded data removed]"
     },
     "metadata": {
      "needs_background": "light"
     },
     "output_type": "display_data"
    }
   ],
   "source": [
    "__author__ = 'SherlockLiao'\n",
    "\n",
    "import os\n",
    "\n",
    "import torch\n",
    "import torchvision\n",
    "from torch import nn\n",
    "from torch.autograd import Variable\n",
    "from torch.utils.data import DataLoader\n",
    "from torchvision import transforms\n",
    "from torchvision.datasets import MNIST\n",
    "from torchvision.utils import save_image\n",
    "\n",
    "import matplotlib.pyplot as plt\n",
    "\n",
    "if not os.path.exists('./mlp_img'):\n",
    "    os.mkdir('./mlp_img')\n",
    "\n",
    "\n",
    "def to_img(x):\n",
    "    x = 0.5 * (x + 1)\n",
    "    x = x.clamp(0, 1)\n",
    "    x = x.view(x.size(0), 1, 28, 28)\n",
    "    return x\n",
    "\n",
    "\n",
    "num_epochs = 100\n",
    "batch_size = 128\n",
    "learning_rate = 0.001#1e-3\n",
    "\n",
    "img_transform = transforms.Compose([\n",
    "    transforms.ToTensor(),\n",
    "    transforms.Normalize([0.5], [0.5])\n",
    "])\n",
    "\n",
    "dataset = MNIST('./data', transform=img_transform, download=True)\n",
    "dataloader = DataLoader(dataset, batch_size=batch_size, shuffle=True)\n",
    "\n",
    "\n",
    "class autoencoder(nn.Module):\n",
    "    def __init__(self):\n",
    "        super(autoencoder, self).__init__()\n",
    "        self.encoder = nn.Sequential(\n",
    "            nn.Linear(28 * 28, 128),\n",
    "            nn.ReLU(True),\n",
    "            nn.Linear(128, 64),\n",
    "            nn.ReLU(True), nn.Linear(64, 12),\n",
    "            nn.ReLU(True), nn.Linear(12, 3))\n",
    "        self.decoder = nn.Sequential(\n",
    "            nn.Linear(3, 12),\n",
    "            nn.ReLU(True),\n",
    "            nn.Linear(12, 64),\n",
    "            nn.ReLU(True),\n",
    "            nn.Linear(64, 128),\n",
    "            nn.ReLU(True), nn.Linear(128, 28 * 28),\n",
    "            nn.Tanh())\n",
    "\n",
    "    def forward(self, x):\n",
    "        x = self.encoder(x)\n",
    "        x = self.decoder(x)\n",
    "        return x\n",
    "\n",
    "\n",
    "# device = torch.device('cuda' if torch.cuda.is_available() else 'cpu')\n",
    "# model = autoencoder().to(device)\n",
    "model = autoencoder()\n",
    "\n",
    "criterion = nn.MSELoss()\n",
    "optimizer = torch.optim.Adam(\n",
    "    model.parameters(), lr=learning_rate, weight_decay=1e-5)\n",
    "\n",
    "loss_history = []\n",
    "for epoch in range(num_epochs):\n",
    "    for data in dataloader:\n",
    "        img, _ = data\n",
    "        img = img.view(img.size(0), -1)\n",
    "        img = Variable(img)#.cuda()\n",
    "        # ===================forward=====================\n",
    "        output = model(img)\n",
    "        loss = criterion(output, img)\n",
    "        # ===================backward====================\n",
    "        optimizer.zero_grad()\n",
    "        loss.backward()\n",
    "        optimizer.step()\n",
    "    # ===================log========================\n",
    "    print('epoch [{}/{}], loss:{:.4f}'\n",
    "          .format(epoch + 1, num_epochs, loss.item())) #loss.data[0]\n",
    "    if epoch % 10 == 0:\n",
    "        pic = to_img(output.cpu().data)\n",
    "        save_image(pic, './mlp_img/image_{}.png'.format(epoch))\n",
    "\n",
    "    #Plot history\n",
    "    loss_history.append(loss.item())\n",
    "    plt.plot(loss_history)\n",
    "    plt.xlabel('epochs')\n",
    "    plt.ylabel('loss')\n",
    "\n",
    "torch.save(model.state_dict(), './sim_autoencoder.pth')\n"
   ]
  },
  {
   "cell_type": "code",
   "execution_count": null,
   "outputs": [],
   "source": [
    "print(type(dataset))\n",
    "print(dataset[0][0].size())"
   ],
   "metadata": {
    "collapsed": false,
    "pycharm": {
     "name": "#%%\n"
    }
   }
  },
  {
   "cell_type": "code",
   "execution_count": 9,
   "outputs": [
    {
     "name": "stdout",
     "output_type": "stream",
     "text": [
      "<class 'torchvision.datasets.mnist.MNIST'>\n",
      "Dataset MNIST\n",
      "    Number of datapoints: 60000\n",
      "    Root location: ./data\n",
      "    Split: Train\n",
      "    StandardTransform\n",
      "Transform: Compose(\n",
      "               ToTensor()\n",
      "               Normalize(mean=[0.5], std=[0.5])\n",
      "           )\n"
     ]
    },
    {
     "ename": "AttributeError",
     "evalue": "'MNIST' object has no attribute 'size'",
     "output_type": "error",
     "traceback": [
      "\u001B[1;31m---------------------------------------------------------------------------\u001B[0m",
      "\u001B[1;31mAttributeError\u001B[0m                            Traceback (most recent call last)",
      "\u001B[1;32m<ipython-input-9-6cb9981728d7>\u001B[0m in \u001B[0;36m<module>\u001B[1;34m\u001B[0m\n\u001B[0;32m      1\u001B[0m \u001B[0mprint\u001B[0m\u001B[1;33m(\u001B[0m\u001B[0mtype\u001B[0m\u001B[1;33m(\u001B[0m\u001B[0mdataset\u001B[0m\u001B[1;33m)\u001B[0m\u001B[1;33m)\u001B[0m\u001B[1;33m\u001B[0m\u001B[1;33m\u001B[0m\u001B[0m\n\u001B[0;32m      2\u001B[0m \u001B[0mprint\u001B[0m\u001B[1;33m(\u001B[0m\u001B[0mdataset\u001B[0m\u001B[1;33m)\u001B[0m\u001B[1;33m\u001B[0m\u001B[1;33m\u001B[0m\u001B[0m\n\u001B[1;32m----> 3\u001B[1;33m \u001B[0mdataset\u001B[0m\u001B[1;33m.\u001B[0m\u001B[0msize\u001B[0m\u001B[1;33m(\u001B[0m\u001B[1;33m)\u001B[0m\u001B[1;33m\u001B[0m\u001B[1;33m\u001B[0m\u001B[0m\n\u001B[0m\u001B[0;32m      4\u001B[0m \u001B[1;33m\u001B[0m\u001B[0m\n",
      "\u001B[1;31mAttributeError\u001B[0m: 'MNIST' object has no attribute 'size'"
     ]
    }
   ],
   "source": [
    "print(type(dataset))\n",
    "print(dataset)\n",
    "dataset.size()"
   ],
   "metadata": {
    "collapsed": false,
    "pycharm": {
     "name": "#%%\n"
    }
   }
  },
  {
   "cell_type": "code",
   "execution_count": null,
   "outputs": [],
   "source": [],
   "metadata": {
    "collapsed": false,
    "pycharm": {
     "name": "#%%"
    }
   }
  }
 ],
 "metadata": {
  "kernelspec": {
   "display_name": "Python 3",
   "language": "python",
   "name": "python3"
  },
  "language_info": {
   "codemirror_mode": {
    "name": "ipython",
    "version": 2
   },
   "file_extension": ".py",
   "mimetype": "text/x-python",
   "name": "python",
   "nbconvert_exporter": "python",
   "pygments_lexer": "ipython2",
   "version": "2.7.6"
  }
 },
 "nbformat": 4,
 "nbformat_minor": 0
}