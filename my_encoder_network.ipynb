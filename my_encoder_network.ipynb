{
 "cells": [
  {
   "cell_type": "code",
   "execution_count": 7,
   "metadata": {
    "collapsed": true
   },
   "outputs": [],
   "source": [
    "import numpy as np\n",
    "import torch\n",
    "import torch.nn as nn\n",
    "import torch.nn.functional as F\n",
    "import torch.optim as optim\n",
    "import matplotlib.pyplot as plt\n",
    "from torch.utils.data.sampler import SubsetRandomSampler\n",
    "from torch.utils.data import DataLoader\n",
    "from torchvision import datasets, transforms\n",
    "import matplotlib.pyplot as plt\n",
    "%matplotlib inline\n",
    "import torch.nn as nn\n",
    "import torch.nn.functional as F\n",
    "import tqdm\n",
    "from torchsummary import summary\n",
    "from torchvision import models\n",
    "\n",
    "from pathlib import Path\n",
    "import os"
   ]
  },
  {
   "cell_type": "code",
   "execution_count": 8,
   "outputs": [],
   "source": [
    "    # Define data directory\n",
    "data_dir = Path(os.getcwd()) / 'my_data'\n",
    "training_dir = data_dir / 'training'\n",
    "x_dir = training_dir / 'x'\n",
    "y_dir = training_dir / 'y'\n",
    "\n",
    "    # Read data\n",
    "indexes = range(0,99) #range(0,6999)\n",
    "indexes_leading_zero = [str(index).zfill(5) for index in indexes]\n",
    "files_names = [index + '.bin' for index in indexes_leading_zero]\n",
    "x = np.array([np.fromfile(x_dir / file, 'uint8') for file in files_names])\n",
    "y = np.array([np.fromfile(y_dir / file, 'uint8') for file in files_names])\n",
    "\n",
    "train_data = torch.from_numpy(x)\n",
    "train_data = train_data.unsqueeze(1)\n",
    "train_data = train_data.to(torch.float)\n",
    "train_loader = torch.utils.data.DataLoader(train_data, batch_size=1, shuffle=False)\n",
    "\n",
    "test_data = torch.from_numpy(y)\n",
    "test_data = test_data.unsqueeze(1)\n",
    "test_data = test_data.to(torch.float)\n",
    "test_loader = torch.utils.data.DataLoader(test_data, batch_size=1, shuffle=False)"
   ],
   "metadata": {
    "collapsed": false,
    "pycharm": {
     "name": "#%%\n"
    }
   }
  },
  {
   "cell_type": "code",
   "execution_count": 10,
   "outputs": [
    {
     "name": "stdout",
     "output_type": "stream",
     "text": [
      "<class 'torch.Tensor'>\n",
      "tensor([[[1., 0., 0.,  ..., 0., 0., 0.]],\n",
      "\n",
      "        [[1., 1., 0.,  ..., 0., 0., 1.]],\n",
      "\n",
      "        [[0., 0., 1.,  ..., 0., 1., 0.]],\n",
      "\n",
      "        ...,\n",
      "\n",
      "        [[1., 0., 0.,  ..., 0., 0., 1.]],\n",
      "\n",
      "        [[0., 0., 0.,  ..., 0., 0., 1.]],\n",
      "\n",
      "        [[0., 0., 0.,  ..., 1., 0., 1.]]])\n"
     ]
    },
    {
     "data": {
      "text/plain": "torch.Size([99, 1, 1792])"
     },
     "execution_count": 10,
     "metadata": {},
     "output_type": "execute_result"
    }
   ],
   "source": [
    "print(type(test_data))\n",
    "print(test_data)\n",
    "test_data.size()"
   ],
   "metadata": {
    "collapsed": false,
    "pycharm": {
     "name": "#%%\n"
    }
   }
  },
  {
   "cell_type": "code",
   "execution_count": 16,
   "outputs": [],
   "source": [
    "# Define the Convolutional Autoencoder\n",
    "class ConvAutoencoder(nn.Module):\n",
    "    def __init__(self):\n",
    "        super(ConvAutoencoder, self).__init__()\n",
    "        self.conv1 = nn.Conv1d(1, 8, kernel_size=5, padding=0, stride=1)\n",
    "        self.conv2 = nn.Conv1d(8, 16, kernel_size=5, padding=0, stride=1)\n",
    "        self.conv3 = nn.Conv1d(16, 32, kernel_size=4, padding=0, stride=1)\n",
    "\n",
    "        self.pool = nn.AvgPool1d(2)\n",
    "\n",
    "        self.bn1 = nn.BatchNorm1d(8)\n",
    "        self.bn2 = nn.BatchNorm1d(16)\n",
    "        self.bn3 = nn.BatchNorm1d(32)\n",
    "\n",
    "        self.t_conv1 = nn.ConvTranspose1d(32, 16, 5, padding=0, stride=2)\n",
    "        self.t_conv2 = nn.ConvTranspose1d(16, 8, 6, padding=0, stride=2)\n",
    "        self.t_conv3 = nn.ConvTranspose1d(8, 1, 6, padding=0, stride=2)\n",
    "\n",
    "        self.t_bn1 = nn.BatchNorm1d(16)\n",
    "        self.t_bn2 = nn.BatchNorm1d(8)\n",
    "        self.t_bn3 = nn.BatchNorm1d(1)\n",
    "\n",
    "    def forward(self, out):\n",
    "        # Encoder\n",
    "        out = self.conv1(out)\n",
    "        out = F.relu(out)\n",
    "        out = self.pool(out)\n",
    "        out = self.bn1(out)\n",
    "\n",
    "        out = self.conv2(out)\n",
    "        out = F.relu(out)\n",
    "        out = self.pool(out)\n",
    "        out = self.bn2(out)\n",
    "\n",
    "        out = self.conv3(out)\n",
    "        out = F.relu(out)\n",
    "        out = self.pool(out)\n",
    "        out = self.bn3(out)\n",
    "\n",
    "        # Decoder\n",
    "        out = self.t_conv1(out)\n",
    "        out = F.relu(out)\n",
    "        out = self.t_bn1(out)\n",
    "\n",
    "        out = self.t_conv2(out)\n",
    "        out = F.relu(out)\n",
    "        out = self.t_bn2(out)\n",
    "\n",
    "        out = self.t_conv3(out)\n",
    "        out = F.relu(out)\n",
    "        out = self.t_bn3(out)\n",
    "\n",
    "        return out"
   ],
   "metadata": {
    "collapsed": false,
    "pycharm": {
     "name": "#%%\n"
    }
   }
  },
  {
   "cell_type": "code",
   "execution_count": 17,
   "outputs": [
    {
     "name": "stdout",
     "output_type": "stream",
     "text": [
      "----------------------------------------------------------------\n",
      "        Layer (type)               Output Shape         Param #\n",
      "================================================================\n",
      "            Conv1d-1              [-1, 8, 1788]              48\n",
      "         AvgPool1d-2               [-1, 8, 894]               0\n",
      "       BatchNorm1d-3               [-1, 8, 894]              16\n",
      "            Conv1d-4              [-1, 16, 890]             656\n",
      "         AvgPool1d-5              [-1, 16, 445]               0\n",
      "       BatchNorm1d-6              [-1, 16, 445]              32\n",
      "            Conv1d-7              [-1, 32, 442]           2,080\n",
      "         AvgPool1d-8              [-1, 32, 221]               0\n",
      "       BatchNorm1d-9              [-1, 32, 221]              64\n",
      "  ConvTranspose1d-10              [-1, 16, 445]           2,576\n",
      "      BatchNorm1d-11              [-1, 16, 445]              32\n",
      "  ConvTranspose1d-12               [-1, 8, 894]             776\n",
      "      BatchNorm1d-13               [-1, 8, 894]              16\n",
      "  ConvTranspose1d-14              [-1, 1, 1792]              49\n",
      "      BatchNorm1d-15              [-1, 1, 1792]               2\n",
      "================================================================\n",
      "Total params: 6,347\n",
      "Trainable params: 6,347\n",
      "Non-trainable params: 0\n",
      "----------------------------------------------------------------\n",
      "Input size (MB): 0.01\n",
      "Forward/backward pass size (MB): 0.90\n",
      "Params size (MB): 0.02\n",
      "Estimated Total Size (MB): 0.93\n",
      "----------------------------------------------------------------\n"
     ]
    }
   ],
   "source": [
    "#Print model summary\n",
    "device = torch.device('cuda' if torch.cuda.is_available() else 'cpu')\n",
    "model = ConvAutoencoder().to(device)\n",
    "\n",
    "summary(model, (1, 1792))"
   ],
   "metadata": {
    "collapsed": false,
    "pycharm": {
     "name": "#%%\n"
    }
   }
  },
  {
   "cell_type": "code",
   "execution_count": 45,
   "outputs": [
    {
     "name": "stdout",
     "output_type": "stream",
     "text": [
      "cpu\n",
      "Epoch: 1 \tTraining Loss: 0.252230\n",
      "Epoch: 2 \tTraining Loss: 0.250814\n",
      "Epoch: 3 \tTraining Loss: 0.250854\n",
      "Epoch: 4 \tTraining Loss: 0.250862\n",
      "Epoch: 5 \tTraining Loss: 0.250866\n",
      "Epoch: 6 \tTraining Loss: 0.250868\n",
      "Epoch: 7 \tTraining Loss: 0.250869\n",
      "Epoch: 8 \tTraining Loss: 0.250869\n",
      "Epoch: 9 \tTraining Loss: 0.250870\n",
      "Epoch: 10 \tTraining Loss: 0.250870\n",
      "Epoch: 11 \tTraining Loss: 0.250870\n",
      "Epoch: 12 \tTraining Loss: 0.250870\n",
      "Epoch: 13 \tTraining Loss: 0.250870\n",
      "Epoch: 14 \tTraining Loss: 0.250870\n",
      "Epoch: 15 \tTraining Loss: 0.250871\n",
      "Epoch: 16 \tTraining Loss: 0.250871\n",
      "Epoch: 17 \tTraining Loss: 0.250871\n",
      "Epoch: 18 \tTraining Loss: 0.250871\n",
      "Epoch: 19 \tTraining Loss: 0.250871\n",
      "Epoch: 20 \tTraining Loss: 0.250871\n",
      "Epoch: 21 \tTraining Loss: 0.250871\n",
      "Epoch: 22 \tTraining Loss: 0.250871\n",
      "Epoch: 23 \tTraining Loss: 0.250871\n",
      "Epoch: 24 \tTraining Loss: 0.250871\n",
      "Epoch: 25 \tTraining Loss: 0.250871\n",
      "Epoch: 26 \tTraining Loss: 0.250871\n",
      "Epoch: 27 \tTraining Loss: 0.250871\n",
      "Epoch: 28 \tTraining Loss: 0.250871\n",
      "Epoch: 29 \tTraining Loss: 0.250871\n",
      "Epoch: 30 \tTraining Loss: 0.250871\n",
      "Epoch: 31 \tTraining Loss: 0.250871\n",
      "Epoch: 32 \tTraining Loss: 0.250871\n"
     ]
    },
    {
     "data": {
      "text/plain": "<Figure size 432x288 with 1 Axes>",
      "image/png": "[encoded data removed]"
     },
     "metadata": {
      "needs_background": "light"
     },
     "output_type": "display_data"
    }
   ],
   "source": [
    "#Loss function\n",
    "#criterion = nn.CrossEntropyLoss()\n",
    "criterion = nn.MSELoss()\n",
    "\n",
    "#Optimizer\n",
    "optimizer = torch.optim.Adam(model.parameters(), lr=0.1, weight_decay=0.1)\n",
    "\n",
    "##--------------------------------------------------------------------------\n",
    "\n",
    "def get_device():\n",
    "    if torch.cuda.is_available():\n",
    "        device = 'cuda:0'\n",
    "    else:\n",
    "        device = 'cpu'\n",
    "    return device\n",
    "\n",
    "device = get_device()\n",
    "print(device)\n",
    "model.to(device)\n",
    "\n",
    "##--------------------------------------------------------------------------\n",
    "\n",
    "#Epochs\n",
    "n_epochs = 32\n",
    "\n",
    "loss_history = []\n",
    "for epoch in range(1, n_epochs+1):\n",
    "    # monitor training loss\n",
    "    train_loss = 0.0\n",
    "\n",
    "    #Training\n",
    "    for data in train_loader:\n",
    "        target = data\n",
    "        target = target.to(device)\n",
    "        optimizer.zero_grad()\n",
    "        outputs = model(target)\n",
    "        loss = criterion(outputs, target)\n",
    "        loss.backward()\n",
    "        optimizer.step()\n",
    "        train_loss += loss.item()*target.size(0)\n",
    "\n",
    "    train_loss = train_loss/len(train_loader)\n",
    "    print('Epoch: {} \\tTraining Loss: {:.6f}'.format(epoch, train_loss))\n",
    "\n",
    "    #Plot history\n",
    "    loss_history.append(train_loss / len(train_data))\n",
    "    plt.plot(loss_history)\n",
    "    plt.xlabel('epochs')\n",
    "    plt.ylabel('loss')"
   ],
   "metadata": {
    "collapsed": false,
    "pycharm": {
     "name": "#%%\n"
    }
   }
  }
 ],
 "metadata": {
  "kernelspec": {
   "display_name": "Python 3",
   "language": "python",
   "name": "python3"
  },
  "language_info": {
   "codemirror_mode": {
    "name": "ipython",
    "version": 2
   },
   "file_extension": ".py",
   "mimetype": "text/x-python",
   "name": "python",
   "nbconvert_exporter": "python",
   "pygments_lexer": "ipython2",
   "version": "2.7.6"
  }
 },
 "nbformat": 4,
 "nbformat_minor": 0
}