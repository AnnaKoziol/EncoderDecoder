{
 "cells": [
  {
   "cell_type": "code",
   "execution_count": 4,
   "outputs": [
    {
     "name": "stdout",
     "output_type": "stream",
     "text": [
      "0\n",
      "16\n"
     ]
    }
   ],
   "source": [
    "hidden_sizes = [16]\n",
    "num_layers = 1\n",
    "\n",
    "for i, hidden_size in enumerate(hidden_sizes):\n",
    "    print(i)\n",
    "    print(hidden_size)"
   ],
   "metadata": {
    "collapsed": false,
    "pycharm": {
     "name": "#%%\n"
    }
   }
  },
  {
   "cell_type": "code",
   "execution_count": null,
   "outputs": [],
   "source": [
    "import random\n",
    "import numpy\n",
    "\n",
    "def decimal_to_gray_decimal(n):\n",
    "    return n ^ (n >> 1)\n",
    "\n",
    "def gray_to_binary(n):\n",
    "    n = int(n, 2) # convert to int\n",
    "    mask = n\n",
    "    while mask != 0:\n",
    "        mask >>= 1\n",
    "        n ^= mask # n=n^mask\n",
    "    return format(n, pixel_depth_format)\n",
    "\n",
    "\n",
    "pixel_depth = 8\n",
    "pixel_depth_format = '0{}b'.format(pixel_depth)\n",
    "lower_bound = 0\n",
    "upper_bound = pow(2,pixel_depth)-1\n",
    "\n",
    "print('max input: {}'.format(upper_bound))\n",
    "input_as_decimal = random.randint(lower_bound,upper_bound)\n",
    "print('random input: {}'.format(input_as_decimal))\n",
    "input_as_gray_decimal = decimal_to_gray_decimal(input_as_decimal)\n",
    "print('decimal input to gray code decimal: {}'.format(input_as_gray_decimal))\n",
    "input_as_gray_code = format(input_as_gray_decimal, pixel_depth_format)\n",
    "print('decimal input to gray code: {}'.format(input_as_gray_code))\n",
    "input_as_binary = gray_to_binary(input_as_gray_code)\n",
    "print('input converted to binary:', input_as_binary)\n",
    "print('type: {}'.format(type(input_as_binary)))\n",
    "x = numpy.frombuffer()(input_as_binary, dtype=numpy.int)\n",
    "print('type: {}'.format(type(x)))\n",
    "print(x)"
   ],
   "metadata": {
    "collapsed": false,
    "pycharm": {
     "name": "#%%\n"
    }
   }
  },
  {
   "cell_type": "code",
   "execution_count": 34,
   "outputs": [
    {
     "name": "stdout",
     "output_type": "stream",
     "text": [
      "1100\n"
     ]
    }
   ],
   "source": [
    "import numpy\n",
    "a = '1100'\n",
    "b = numpy.array(a)\n",
    "print(b)"
   ],
   "metadata": {
    "collapsed": false,
    "pycharm": {
     "name": "#%%\n"
    }
   }
  },
  {
   "cell_type": "code",
   "execution_count": 41,
   "outputs": [
    {
     "name": "stdout",
     "output_type": "stream",
     "text": [
      "[1 0 0 0] [1 0 0 0]\n",
      "<class 'numpy.ndarray'>\n"
     ]
    }
   ],
   "source": [
    "import numpy as np\n",
    "pixel_depth = 4\n",
    "pixel_depth_format = '0{}b'.format(pixel_depth)\n",
    "\n",
    "def decimal_to_gray_decimal(n):\n",
    "    return n ^ (n >> 1)\n",
    "\n",
    "def gray_to_binary(n):\n",
    "    n = int(n, 2) # convert to int\n",
    "    mask = n\n",
    "    while mask != 0:\n",
    "        mask >>= 1\n",
    "        n ^= mask # n=n^mask\n",
    "    return format(n, pixel_depth_format)\n",
    "\n",
    "def getSample(pixel_depth, test_flag):\n",
    "    lower_bound = 0\n",
    "    upper_bound = pow(2, pixel_depth) - 1\n",
    "\n",
    "    input_as_decimal = random.randint(lower_bound, upper_bound)\n",
    "    input_as_gray_decimal = decimal_to_gray_decimal(input_as_decimal)\n",
    "    input_as_gray_code = format(input_as_gray_decimal, pixel_depth_format)\n",
    "    input_as_binary = gray_to_binary(input_as_gray_code)\n",
    "    input_as_gray_code = np.array(list(input_as_gray_code[::-1]), dtype=int)\n",
    "    input_as_binary = np.array(list(input_as_binary[::-1]), dtype=int)\n",
    "\n",
    "    if test_flag == 1:\n",
    "        print('Sample as gray: {}, sample as binary: {}'.fomart(input_as_gray_code, input_as_binary))\n",
    "\n",
    "    return input_as_gray_code, input_as_binary\n",
    "\n",
    "x, y = getSample(pixel_depth, test_flag=0)\n",
    "print(x,y)\n",
    "print(type(x))"
   ],
   "metadata": {
    "collapsed": false,
    "pycharm": {
     "name": "#%%\n"
    }
   }
  },
  {
   "cell_type": "code",
   "execution_count": 4,
   "outputs": [
    {
     "name": "stdout",
     "output_type": "stream",
     "text": [
      "[[1 0 1 0]\n",
      " [0 1 0 1]\n",
      " [1 0 1 1]\n",
      " [0 1 1 0]\n",
      " [1 1 0 0]]\n"
     ]
    }
   ],
   "source": [
    "import numpy as np\n",
    "\n",
    "x = np.array([[1,0,1,0],[0,1,0,1],\n",
    "              [1,0,1,1],[0,1,1,0],[1,1,0,0]])\n",
    "print(x)"
   ],
   "metadata": {
    "collapsed": false,
    "pycharm": {
     "name": "#%%\n"
    }
   }
  }
 ],
 "metadata": {
  "kernelspec": {
   "display_name": "Python 3",
   "language": "python",
   "name": "python3"
  },
  "language_info": {
   "codemirror_mode": {
    "name": "ipython",
    "version": 2
   },
   "file_extension": ".py",
   "mimetype": "text/x-python",
   "name": "python",
   "nbconvert_exporter": "python",
   "pygments_lexer": "ipython2",
   "version": "2.7.6"
  }
 },
 "nbformat": 4,
 "nbformat_minor": 0
}