{
 "cells": [
  {
   "cell_type": "code",
   "execution_count": 1,
   "outputs": [
    {
     "name": "stdout",
     "output_type": "stream",
     "text": [
      "['idx_00_hidd_l1_032_hidd_l2_032', 'idx_01_hidd_l1_032_hidd_l2_032', 'idx_02_hidd_l1_032_hidd_l2_032', 'idx_03_hidd_l1_048_hidd_l2_032', 'idx_04_hidd_l1_048_hidd_l2_032', 'idx_05_hidd_l1_048_hidd_l2_032', 'idx_06_hidd_l1_064_hidd_l2_032', 'idx_07_hidd_l1_064_hidd_l2_032', 'idx_08_hidd_l1_064_hidd_l2_032', 'idx_09_hidd_l1_080_hidd_l2_032', 'idx_10_hidd_l1_080_hidd_l2_032', 'idx_11_hidd_l1_080_hidd_l2_032', 'idx_12_hidd_l1_096_hidd_l2_032', 'idx_13_hidd_l1_096_hidd_l2_032', 'idx_14_hidd_l1_096_hidd_l2_032', 'idx_15_hidd_l1_112_hidd_l2_032', 'idx_16_hidd_l1_112_hidd_l2_032', 'idx_17_hidd_l1_112_hidd_l2_032', 'idx_18_hidd_l1_128_hidd_l2_032', 'idx_19_hidd_l1_128_hidd_l2_032', 'idx_20_hidd_l1_128_hidd_l2_032']\n",
      "D:\\AGH\\Projects\\ANN\\CNN_autoencoder\\project\\CNN_autoencoder\\utilities\\L1_l2\\idx_00_hidd_l1_032_hidd_l2_032\n",
      "D:\\AGH\\Projects\\ANN\\CNN_autoencoder\\project\\CNN_autoencoder\\utilities\\L1_l2\\idx_01_hidd_l1_032_hidd_l2_032\n",
      "D:\\AGH\\Projects\\ANN\\CNN_autoencoder\\project\\CNN_autoencoder\\utilities\\L1_l2\\idx_02_hidd_l1_032_hidd_l2_032\n",
      "D:\\AGH\\Projects\\ANN\\CNN_autoencoder\\project\\CNN_autoencoder\\utilities\\L1_l2\\idx_03_hidd_l1_048_hidd_l2_032\n",
      "D:\\AGH\\Projects\\ANN\\CNN_autoencoder\\project\\CNN_autoencoder\\utilities\\L1_l2\\idx_04_hidd_l1_048_hidd_l2_032\n",
      "D:\\AGH\\Projects\\ANN\\CNN_autoencoder\\project\\CNN_autoencoder\\utilities\\L1_l2\\idx_05_hidd_l1_048_hidd_l2_032\n",
      "D:\\AGH\\Projects\\ANN\\CNN_autoencoder\\project\\CNN_autoencoder\\utilities\\L1_l2\\idx_06_hidd_l1_064_hidd_l2_032\n",
      "D:\\AGH\\Projects\\ANN\\CNN_autoencoder\\project\\CNN_autoencoder\\utilities\\L1_l2\\idx_07_hidd_l1_064_hidd_l2_032\n",
      "D:\\AGH\\Projects\\ANN\\CNN_autoencoder\\project\\CNN_autoencoder\\utilities\\L1_l2\\idx_08_hidd_l1_064_hidd_l2_032\n",
      "D:\\AGH\\Projects\\ANN\\CNN_autoencoder\\project\\CNN_autoencoder\\utilities\\L1_l2\\idx_09_hidd_l1_080_hidd_l2_032\n",
      "D:\\AGH\\Projects\\ANN\\CNN_autoencoder\\project\\CNN_autoencoder\\utilities\\L1_l2\\idx_10_hidd_l1_080_hidd_l2_032\n",
      "D:\\AGH\\Projects\\ANN\\CNN_autoencoder\\project\\CNN_autoencoder\\utilities\\L1_l2\\idx_11_hidd_l1_080_hidd_l2_032\n",
      "D:\\AGH\\Projects\\ANN\\CNN_autoencoder\\project\\CNN_autoencoder\\utilities\\L1_l2\\idx_12_hidd_l1_096_hidd_l2_032\n",
      "D:\\AGH\\Projects\\ANN\\CNN_autoencoder\\project\\CNN_autoencoder\\utilities\\L1_l2\\idx_13_hidd_l1_096_hidd_l2_032\n",
      "D:\\AGH\\Projects\\ANN\\CNN_autoencoder\\project\\CNN_autoencoder\\utilities\\L1_l2\\idx_14_hidd_l1_096_hidd_l2_032\n",
      "D:\\AGH\\Projects\\ANN\\CNN_autoencoder\\project\\CNN_autoencoder\\utilities\\L1_l2\\idx_15_hidd_l1_112_hidd_l2_032\n",
      "D:\\AGH\\Projects\\ANN\\CNN_autoencoder\\project\\CNN_autoencoder\\utilities\\L1_l2\\idx_16_hidd_l1_112_hidd_l2_032\n",
      "D:\\AGH\\Projects\\ANN\\CNN_autoencoder\\project\\CNN_autoencoder\\utilities\\L1_l2\\idx_17_hidd_l1_112_hidd_l2_032\n",
      "D:\\AGH\\Projects\\ANN\\CNN_autoencoder\\project\\CNN_autoencoder\\utilities\\L1_l2\\idx_18_hidd_l1_128_hidd_l2_032\n",
      "D:\\AGH\\Projects\\ANN\\CNN_autoencoder\\project\\CNN_autoencoder\\utilities\\L1_l2\\idx_19_hidd_l1_128_hidd_l2_032\n",
      "D:\\AGH\\Projects\\ANN\\CNN_autoencoder\\project\\CNN_autoencoder\\utilities\\L1_l2\\idx_20_hidd_l1_128_hidd_l2_032\n"
     ]
    }
   ],
   "source": [
    "import os\n",
    "import numpy as np\n",
    "import pandas as pd\n",
    "\n",
    "from collections import defaultdict\n",
    "from tensorboard.backend.event_processing.event_accumulator import EventAccumulator\n",
    "from pathlib import Path\n",
    "import os\n",
    "\n",
    "def tabulate_events(dpath):\n",
    "    summary_iterators = [EventAccumulator(os.path.join(dpath, dname)).Reload() for dname in os.listdir(dpath)]\n",
    "\n",
    "    tags = summary_iterators[0].Tags()['scalars']\n",
    "\n",
    "    for it in summary_iterators:\n",
    "        assert it.Tags()['scalars'] == tags\n",
    "\n",
    "    out = defaultdict(list)\n",
    "    steps = []\n",
    "\n",
    "    for tag in tags:\n",
    "        steps = [e.step for e in summary_iterators[0].Scalars(tag)]\n",
    "\n",
    "        for events in zip(*[acc.Scalars(tag) for acc in summary_iterators]):\n",
    "            assert len(set(e.step for e in events)) == 1\n",
    "\n",
    "            out[tag].append([e.value for e in events])\n",
    "\n",
    "    return out, steps\n",
    "\n",
    "\n",
    "def to_csv(dpath):\n",
    "    dirs = os.listdir(dpath)\n",
    "\n",
    "    d, steps = tabulate_events(dpath)\n",
    "    tags, values = zip(*d.items())\n",
    "    np_values = np.array(values)\n",
    "\n",
    "    for index, tag in enumerate(tags):\n",
    "        df = pd.DataFrame(np_values[index], index=steps, columns=dirs)\n",
    "        df.to_csv(get_file_path(dpath, tag))\n",
    "\n",
    "\n",
    "def get_file_path(dpath, tag):\n",
    "    file_name = tag.replace(\"/\", \"_\") + '.csv'\n",
    "    folder_path = os.path.join(dpath, 'csv')\n",
    "    if not os.path.exists(folder_path):\n",
    "        os.makedirs(folder_path)\n",
    "    return os.path.join(folder_path, file_name)\n",
    "\n",
    "\n",
    "path_to_events_file = data_dir = Path(os.getcwd()) / 'L1_l2'\n",
    "\n",
    "if __name__ == '__main__':\n",
    "    dirs = os.listdir(str(path_to_events_file))\n",
    "    print(dirs)\n",
    "    for index, name in enumerate(dirs):\n",
    "        folder_path = path_to_events_file / name\n",
    "        print(str(folder_path))\n",
    "        to_csv(str(folder_path))\n",
    "\n"
   ],
   "metadata": {
    "collapsed": false,
    "pycharm": {
     "name": "#%%\n"
    }
   }
  }
 ],
 "metadata": {
  "kernelspec": {
   "display_name": "Python 3",
   "language": "python",
   "name": "python3"
  },
  "language_info": {
   "codemirror_mode": {
    "name": "ipython",
    "version": 2
   },
   "file_extension": ".py",
   "mimetype": "text/x-python",
   "name": "python",
   "nbconvert_exporter": "python",
   "pygments_lexer": "ipython2",
   "version": "2.7.6"
  }
 },
 "nbformat": 4,
 "nbformat_minor": 0
}